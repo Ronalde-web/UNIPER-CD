{
  "nbformat": 4,
  "nbformat_minor": 0,
  "metadata": {
    "colab": {
      "name": "GERDAU - Aula 07 - Sklearn - Modelo Não-supervisionado - Kmeans.ipynb",
      "provenance": []
    },
    "kernelspec": {
      "name": "python3",
      "display_name": "Python 3"
    },
    "language_info": {
      "name": "python"
    }
  },
  "cells": [
    {
      "cell_type": "code",
      "metadata": {
        "id": "R5sfVTIrwlIv"
      },
      "source": [
        "# GERDAU - Treinamento InCompany\n",
        "# Autor:  Ronalde Gonçalves da Silva Neto - FABWORK\n",
        "# Ciência de Dados com Python + Pandas, Numpy, SkLearning. Diabetes\n",
        "# Machine Learning - Modelos Não-Supervisionados \n",
        "# Algoritmo - KMeans"
      ],
      "execution_count": 24,
      "outputs": []
    },
    {
      "cell_type": "code",
      "metadata": {
        "id": "MmhNU6QxxiGk"
      },
      "source": [
        "# Import das Bibliotecas\n",
        "from sklearn.cluster import KMeans\n",
        "from sklearn import metrics\n",
        "import numpy as np\n",
        "import pandas as pd\n",
        "import matplotlib.pyplot as plt\n"
      ],
      "execution_count": 25,
      "outputs": []
    },
    {
      "cell_type": "code",
      "metadata": {
        "id": "dZynuuh6xtXH"
      },
      "source": [
        "# Manipulação dos Dados\n",
        "x1 = np.array([3, 1, 1, 2, 1, 6, 6, 6, 5, 6, 7, 8, 9, 8, 9, 9, 8])\n",
        "x2 = np.array([5, 4, 6, 6, 5, 8, 6, 7, 6, 7, 1, 2, 1, 2, 3, 2, 3])\n"
      ],
      "execution_count": 26,
      "outputs": []
    },
    {
      "cell_type": "code",
      "metadata": {
        "colab": {
          "base_uri": "https://localhost:8080/",
          "height": 281
        },
        "id": "baUGZZSJx3we",
        "outputId": "434781fa-ffe9-4d77-bda4-059112c9c308"
      },
      "source": [
        "plt.plot()\n",
        "plt.xlim([0, 10])\n",
        "plt.ylim([0, 10])\n",
        "plt.title('Dataset')\n",
        "plt.scatter(x1, x2)\n",
        "plt.show()"
      ],
      "execution_count": 27,
      "outputs": [
        {
          "output_type": "display_data",
          "data": {
            "image/png": "[encoded data removed]",
            "text/plain": [
              "<Figure size 432x288 with 1 Axes>"
            ]
          },
          "metadata": {
            "needs_background": "light"
          }
        }
      ]
    },
    {
      "cell_type": "code",
      "metadata": {
        "colab": {
          "base_uri": "https://localhost:8080/",
          "height": 269
        },
        "id": "jvqIy7nsx9Ln",
        "outputId": "89a8ca85-e8ac-45b5-bf31-78b508699cde"
      },
      "source": [
        "# create new plot and data\n",
        "plt.plot()\n",
        "X = np.array(list(zip(x1, x2))).reshape(len(x1), 2)\n",
        "colors = ['b', 'g', 'r']\n",
        "markers = ['o', 'v', 's']\n",
        "\n",
        "# KMeans algorithm \n",
        "K = 3\n",
        "kmeans_model = KMeans(n_clusters=K).fit(X)\n",
        "\n",
        "plt.plot()\n",
        "for i, l in enumerate(kmeans_model.labels_):\n",
        "    plt.plot(x1[i], x2[i], color=colors[l], marker=markers[l],ls='None')\n",
        "    plt.xlim([0, 10])\n",
        "    plt.ylim([0, 10])\n",
        "\n",
        "plt.show()"
      ],
      "execution_count": 28,
      "outputs": [
        {
          "output_type": "display_data",
          "data": {
            "image/png": "[encoded data removed]",
            "text/plain": [
              "<Figure size 432x288 with 1 Axes>"
            ]
          },
          "metadata": {
            "needs_background": "light"
          }
        }
      ]
    },
    {
      "cell_type": "code",
      "metadata": {
        "id": "4t_u9XkzyGuO"
      },
      "source": [
        "# Adaptar para o Ambiente da GERDAU.\n",
        "#import awswrangler as wr\n",
        "\n",
        "#import boto3\n",
        "#boto3.setup_default_session(region_name=\"us-east-2\")\n",
        "\n",
        "data = pd.read_csv(\"iris.csv\")\n",
        "\n",
        "# Criar um Objeto do tipo DataFrame no Ambiente Big Data - Gerdau\n",
        "# data=wr.s3.read_csv('s3://gerdau-analytics/gdata/datascience/iris.csv')"
      ],
      "execution_count": 29,
      "outputs": []
    },
    {
      "cell_type": "code",
      "metadata": {
        "colab": {
          "base_uri": "https://localhost:8080/",
          "height": 204
        },
        "id": "kxBY7zL0yhBP",
        "outputId": "098d4599-fc9e-49c6-cac0-30a52a0a3f57"
      },
      "source": [
        "data.head()"
      ],
      "execution_count": 30,
      "outputs": [
        {
          "output_type": "execute_result",
          "data": {
            "text/html": [
              "<div>\n",
              "<style scoped>\n",
              "    .dataframe tbody tr th:only-of-type {\n",
              "        vertical-align: middle;\n",
              "    }\n",
              "\n",
              "    .dataframe tbody tr th {\n",
              "        vertical-align: top;\n",
              "    }\n",
              "\n",
              "    .dataframe thead th {\n",
              "        text-align: right;\n",
              "    }\n",
              "</style>\n",
              "<table border=\"1\" class=\"dataframe\">\n",
              "  <thead>\n",
              "    <tr style=\"text-align: right;\">\n",
              "      <th></th>\n",
              "      <th>sepal.length</th>\n",
              "      <th>sepal.width</th>\n",
              "      <th>petal.length</th>\n",
              "      <th>petal.width</th>\n",
              "      <th>variety</th>\n",
              "    </tr>\n",
              "  </thead>\n",
              "  <tbody>\n",
              "    <tr>\n",
              "      <th>0</th>\n",
              "      <td>5.1</td>\n",
              "      <td>3.5</td>\n",
              "      <td>1.4</td>\n",
              "      <td>0.2</td>\n",
              "      <td>Setosa</td>\n",
              "    </tr>\n",
              "    <tr>\n",
              "      <th>1</th>\n",
              "      <td>4.9</td>\n",
              "      <td>3.0</td>\n",
              "      <td>1.4</td>\n",
              "      <td>0.2</td>\n",
              "      <td>Setosa</td>\n",
              "    </tr>\n",
              "    <tr>\n",
              "      <th>2</th>\n",
              "      <td>4.7</td>\n",
              "      <td>3.2</td>\n",
              "      <td>1.3</td>\n",
              "      <td>0.2</td>\n",
              "      <td>Setosa</td>\n",
              "    </tr>\n",
              "    <tr>\n",
              "      <th>3</th>\n",
              "      <td>4.6</td>\n",
              "      <td>3.1</td>\n",
              "      <td>1.5</td>\n",
              "      <td>0.2</td>\n",
              "      <td>Setosa</td>\n",
              "    </tr>\n",
              "    <tr>\n",
              "      <th>4</th>\n",
              "      <td>5.0</td>\n",
              "      <td>3.6</td>\n",
              "      <td>1.4</td>\n",
              "      <td>0.2</td>\n",
              "      <td>Setosa</td>\n",
              "    </tr>\n",
              "  </tbody>\n",
              "</table>\n",
              "</div>"
            ],
            "text/plain": [
              "   sepal.length  sepal.width  petal.length  petal.width variety\n",
              "0           5.1          3.5           1.4          0.2  Setosa\n",
              "1           4.9          3.0           1.4          0.2  Setosa\n",
              "2           4.7          3.2           1.3          0.2  Setosa\n",
              "3           4.6          3.1           1.5          0.2  Setosa\n",
              "4           5.0          3.6           1.4          0.2  Setosa"
            ]
          },
          "metadata": {},
          "execution_count": 30
        }
      ]
    },
    {
      "cell_type": "code",
      "metadata": {
        "colab": {
          "base_uri": "https://localhost:8080/"
        },
        "id": "y2cB4rjDzDtv",
        "outputId": "52ac979a-c3d8-4741-9100-5db4c5a679a1"
      },
      "source": [
        "X = data.iloc[:, 0:4].values\n",
        "X"
      ],
      "execution_count": 31,
      "outputs": [
        {
          "output_type": "execute_result",
          "data": {
            "text/plain": [
              "array([[5.1, 3.5, 1.4, 0.2],\n",
              "       [4.9, 3. , 1.4, 0.2],\n",
              "       [4.7, 3.2, 1.3, 0.2],\n",
              "       [4.6, 3.1, 1.5, 0.2],\n",
              "       [5. , 3.6, 1.4, 0.2],\n",
              "       [5.4, 3.9, 1.7, 0.4],\n",
              "       [4.6, 3.4, 1.4, 0.3],\n",
              "       [5. , 3.4, 1.5, 0.2],\n",
              "       [4.4, 2.9, 1.4, 0.2],\n",
              "       [4.9, 3.1, 1.5, 0.1],\n",
              "       [5.4, 3.7, 1.5, 0.2],\n",
              "       [4.8, 3.4, 1.6, 0.2],\n",
              "       [4.8, 3. , 1.4, 0.1],\n",
              "       [4.3, 3. , 1.1, 0.1],\n",
              "       [5.8, 4. , 1.2, 0.2],\n",
              "       [5.7, 4.4, 1.5, 0.4],\n",
              "       [5.4, 3.9, 1.3, 0.4],\n",
              "       [5.1, 3.5, 1.4, 0.3],\n",
              "       [5.7, 3.8, 1.7, 0.3],\n",
              "       [5.1, 3.8, 1.5, 0.3],\n",
              "       [5.4, 3.4, 1.7, 0.2],\n",
              "       [5.1, 3.7, 1.5, 0.4],\n",
              "       [4.6, 3.6, 1. , 0.2],\n",
              "       [5.1, 3.3, 1.7, 0.5],\n",
              "       [4.8, 3.4, 1.9, 0.2],\n",
              "       [5. , 3. , 1.6, 0.2],\n",
              "       [5. , 3.4, 1.6, 0.4],\n",
              "       [5.2, 3.5, 1.5, 0.2],\n",
              "       [5.2, 3.4, 1.4, 0.2],\n",
              "       [4.7, 3.2, 1.6, 0.2],\n",
              "       [4.8, 3.1, 1.6, 0.2],\n",
              "       [5.4, 3.4, 1.5, 0.4],\n",
              "       [5.2, 4.1, 1.5, 0.1],\n",
              "       [5.5, 4.2, 1.4, 0.2],\n",
              "       [4.9, 3.1, 1.5, 0.2],\n",
              "       [5. , 3.2, 1.2, 0.2],\n",
              "       [5.5, 3.5, 1.3, 0.2],\n",
              "       [4.9, 3.6, 1.4, 0.1],\n",
              "       [4.4, 3. , 1.3, 0.2],\n",
              "       [5.1, 3.4, 1.5, 0.2],\n",
              "       [5. , 3.5, 1.3, 0.3],\n",
              "       [4.5, 2.3, 1.3, 0.3],\n",
              "       [4.4, 3.2, 1.3, 0.2],\n",
              "       [5. , 3.5, 1.6, 0.6],\n",
              "       [5.1, 3.8, 1.9, 0.4],\n",
              "       [4.8, 3. , 1.4, 0.3],\n",
              "       [5.1, 3.8, 1.6, 0.2],\n",
              "       [4.6, 3.2, 1.4, 0.2],\n",
              "       [5.3, 3.7, 1.5, 0.2],\n",
              "       [5. , 3.3, 1.4, 0.2],\n",
              "       [7. , 3.2, 4.7, 1.4],\n",
              "       [6.4, 3.2, 4.5, 1.5],\n",
              "       [6.9, 3.1, 4.9, 1.5],\n",
              "       [5.5, 2.3, 4. , 1.3],\n",
              "       [6.5, 2.8, 4.6, 1.5],\n",
              "       [5.7, 2.8, 4.5, 1.3],\n",
              "       [6.3, 3.3, 4.7, 1.6],\n",
              "       [4.9, 2.4, 3.3, 1. ],\n",
              "       [6.6, 2.9, 4.6, 1.3],\n",
              "       [5.2, 2.7, 3.9, 1.4],\n",
              "       [5. , 2. , 3.5, 1. ],\n",
              "       [5.9, 3. , 4.2, 1.5],\n",
              "       [6. , 2.2, 4. , 1. ],\n",
              "       [6.1, 2.9, 4.7, 1.4],\n",
              "       [5.6, 2.9, 3.6, 1.3],\n",
              "       [6.7, 3.1, 4.4, 1.4],\n",
              "       [5.6, 3. , 4.5, 1.5],\n",
              "       [5.8, 2.7, 4.1, 1. ],\n",
              "       [6.2, 2.2, 4.5, 1.5],\n",
              "       [5.6, 2.5, 3.9, 1.1],\n",
              "       [5.9, 3.2, 4.8, 1.8],\n",
              "       [6.1, 2.8, 4. , 1.3],\n",
              "       [6.3, 2.5, 4.9, 1.5],\n",
              "       [6.1, 2.8, 4.7, 1.2],\n",
              "       [6.4, 2.9, 4.3, 1.3],\n",
              "       [6.6, 3. , 4.4, 1.4],\n",
              "       [6.8, 2.8, 4.8, 1.4],\n",
              "       [6.7, 3. , 5. , 1.7],\n",
              "       [6. , 2.9, 4.5, 1.5],\n",
              "       [5.7, 2.6, 3.5, 1. ],\n",
              "       [5.5, 2.4, 3.8, 1.1],\n",
              "       [5.5, 2.4, 3.7, 1. ],\n",
              "       [5.8, 2.7, 3.9, 1.2],\n",
              "       [6. , 2.7, 5.1, 1.6],\n",
              "       [5.4, 3. , 4.5, 1.5],\n",
              "       [6. , 3.4, 4.5, 1.6],\n",
              "       [6.7, 3.1, 4.7, 1.5],\n",
              "       [6.3, 2.3, 4.4, 1.3],\n",
              "       [5.6, 3. , 4.1, 1.3],\n",
              "       [5.5, 2.5, 4. , 1.3],\n",
              "       [5.5, 2.6, 4.4, 1.2],\n",
              "       [6.1, 3. , 4.6, 1.4],\n",
              "       [5.8, 2.6, 4. , 1.2],\n",
              "       [5. , 2.3, 3.3, 1. ],\n",
              "       [5.6, 2.7, 4.2, 1.3],\n",
              "       [5.7, 3. , 4.2, 1.2],\n",
              "       [5.7, 2.9, 4.2, 1.3],\n",
              "       [6.2, 2.9, 4.3, 1.3],\n",
              "       [5.1, 2.5, 3. , 1.1],\n",
              "       [5.7, 2.8, 4.1, 1.3],\n",
              "       [6.3, 3.3, 6. , 2.5],\n",
              "       [5.8, 2.7, 5.1, 1.9],\n",
              "       [7.1, 3. , 5.9, 2.1],\n",
              "       [6.3, 2.9, 5.6, 1.8],\n",
              "       [6.5, 3. , 5.8, 2.2],\n",
              "       [7.6, 3. , 6.6, 2.1],\n",
              "       [4.9, 2.5, 4.5, 1.7],\n",
              "       [7.3, 2.9, 6.3, 1.8],\n",
              "       [6.7, 2.5, 5.8, 1.8],\n",
              "       [7.2, 3.6, 6.1, 2.5],\n",
              "       [6.5, 3.2, 5.1, 2. ],\n",
              "       [6.4, 2.7, 5.3, 1.9],\n",
              "       [6.8, 3. , 5.5, 2.1],\n",
              "       [5.7, 2.5, 5. , 2. ],\n",
              "       [5.8, 2.8, 5.1, 2.4],\n",
              "       [6.4, 3.2, 5.3, 2.3],\n",
              "       [6.5, 3. , 5.5, 1.8],\n",
              "       [7.7, 3.8, 6.7, 2.2],\n",
              "       [7.7, 2.6, 6.9, 2.3],\n",
              "       [6. , 2.2, 5. , 1.5],\n",
              "       [6.9, 3.2, 5.7, 2.3],\n",
              "       [5.6, 2.8, 4.9, 2. ],\n",
              "       [7.7, 2.8, 6.7, 2. ],\n",
              "       [6.3, 2.7, 4.9, 1.8],\n",
              "       [6.7, 3.3, 5.7, 2.1],\n",
              "       [7.2, 3.2, 6. , 1.8],\n",
              "       [6.2, 2.8, 4.8, 1.8],\n",
              "       [6.1, 3. , 4.9, 1.8],\n",
              "       [6.4, 2.8, 5.6, 2.1],\n",
              "       [7.2, 3. , 5.8, 1.6],\n",
              "       [7.4, 2.8, 6.1, 1.9],\n",
              "       [7.9, 3.8, 6.4, 2. ],\n",
              "       [6.4, 2.8, 5.6, 2.2],\n",
              "       [6.3, 2.8, 5.1, 1.5],\n",
              "       [6.1, 2.6, 5.6, 1.4],\n",
              "       [7.7, 3. , 6.1, 2.3],\n",
              "       [6.3, 3.4, 5.6, 2.4],\n",
              "       [6.4, 3.1, 5.5, 1.8],\n",
              "       [6. , 3. , 4.8, 1.8],\n",
              "       [6.9, 3.1, 5.4, 2.1],\n",
              "       [6.7, 3.1, 5.6, 2.4],\n",
              "       [6.9, 3.1, 5.1, 2.3],\n",
              "       [5.8, 2.7, 5.1, 1.9],\n",
              "       [6.8, 3.2, 5.9, 2.3],\n",
              "       [6.7, 3.3, 5.7, 2.5],\n",
              "       [6.7, 3. , 5.2, 2.3],\n",
              "       [6.3, 2.5, 5. , 1.9],\n",
              "       [6.5, 3. , 5.2, 2. ],\n",
              "       [6.2, 3.4, 5.4, 2.3],\n",
              "       [5.9, 3. , 5.1, 1.8]])"
            ]
          },
          "metadata": {},
          "execution_count": 31
        }
      ]
    },
    {
      "cell_type": "code",
      "metadata": {
        "id": "O1IwuZwRzH1G"
      },
      "source": [
        "# Importando o Algoritmo KMeans\n",
        "from sklearn.cluster import KMeans"
      ],
      "execution_count": 32,
      "outputs": []
    },
    {
      "cell_type": "code",
      "metadata": {
        "id": "5Aab3CuUzObH"
      },
      "source": [
        "kmeans = KMeans(n_clusters = 3, init = 'random')"
      ],
      "execution_count": 33,
      "outputs": []
    },
    {
      "cell_type": "code",
      "metadata": {
        "colab": {
          "base_uri": "https://localhost:8080/"
        },
        "id": "1S_bSwezzQhX",
        "outputId": "0af40a6a-7f60-414e-d014-8df870c22a80"
      },
      "source": [
        "kmeans.fit(X)"
      ],
      "execution_count": 34,
      "outputs": [
        {
          "output_type": "execute_result",
          "data": {
            "text/plain": [
              "KMeans(init='random', n_clusters=3)"
            ]
          },
          "metadata": {},
          "execution_count": 34
        }
      ]
    },
    {
      "cell_type": "code",
      "metadata": {
        "colab": {
          "base_uri": "https://localhost:8080/"
        },
        "id": "qupNm3jezSVP",
        "outputId": "2ebdd718-c4cd-4d1d-efab-13203778a9eb"
      },
      "source": [
        "kmeans.cluster_centers_"
      ],
      "execution_count": 35,
      "outputs": [
        {
          "output_type": "execute_result",
          "data": {
            "text/plain": [
              "array([[5.9016129 , 2.7483871 , 4.39354839, 1.43387097],\n",
              "       [6.85      , 3.07368421, 5.74210526, 2.07105263],\n",
              "       [5.006     , 3.428     , 1.462     , 0.246     ]])"
            ]
          },
          "metadata": {},
          "execution_count": 35
        }
      ]
    },
    {
      "cell_type": "code",
      "metadata": {
        "colab": {
          "base_uri": "https://localhost:8080/"
        },
        "id": "swQ6wfQwzVI_",
        "outputId": "02a54c46-d111-40e9-be02-4cacd7004fa6"
      },
      "source": [
        "distance = kmeans.fit_transform(X)\n",
        "distance"
      ],
      "execution_count": 36,
      "outputs": [
        {
          "output_type": "execute_result",
          "data": {
            "text/plain": [
              "array([[3.41925061, 0.14135063, 5.0595416 ],\n",
              "       [3.39857426, 0.44763825, 5.11494335],\n",
              "       [3.56935666, 0.4171091 , 5.27935534],\n",
              "       [3.42240962, 0.52533799, 5.15358977],\n",
              "       [3.46726403, 0.18862662, 5.10433388],\n",
              "       [3.14673162, 0.67703767, 4.68148797],\n",
              "       [3.51650264, 0.4151867 , 5.21147652],\n",
              "       [3.33654987, 0.06618157, 5.00252706],\n",
              "       [3.57233779, 0.80745278, 5.32798107],\n",
              "       [3.3583767 , 0.37627118, 5.06790865],\n",
              "       [3.32449131, 0.4824728 , 4.89806763],\n",
              "       [3.31126872, 0.25373214, 4.9966845 ],\n",
              "       [3.46661272, 0.50077939, 5.19103612],\n",
              "       [3.90578362, 0.91322505, 5.65173594],\n",
              "       [3.646649  , 1.01409073, 5.10804455],\n",
              "       [3.49427881, 1.20481534, 4.88564095],\n",
              "       [3.495248  , 0.6542018 , 5.03090587],\n",
              "       [3.38444981, 0.1441527 , 5.02342022],\n",
              "       [3.11245944, 0.82436642, 4.61792995],\n",
              "       [3.37738931, 0.38933276, 4.97213426],\n",
              "       [3.07471224, 0.46344363, 4.6955761 ],\n",
              "       [3.31506588, 0.3286031 , 4.9236821 ],\n",
              "       [3.93167253, 0.64029681, 5.59713396],\n",
              "       [3.01233762, 0.38259639, 4.68193765],\n",
              "       [3.06241269, 0.48701129, 4.75095704],\n",
              "       [3.19414543, 0.45208406, 4.90772894],\n",
              "       [3.17967089, 0.20875823, 4.84545508],\n",
              "       [3.30941724, 0.21536016, 4.93969029],\n",
              "       [3.37648183, 0.21066561, 5.01833618],\n",
              "       [3.31272968, 0.40838707, 5.02954567],\n",
              "       [3.26550651, 0.41373905, 4.98608729],\n",
              "       [3.18083736, 0.42565244, 4.79550372],\n",
              "       [3.53142353, 0.71552778, 5.06520776],\n",
              "       [3.57102821, 0.91977171, 5.04438334],\n",
              "       [3.31992769, 0.34982853, 5.02985959],\n",
              "       [3.56904033, 0.35039977, 5.25071556],\n",
              "       [3.43783276, 0.52685861, 5.02368214],\n",
              "       [3.53114948, 0.25686572, 5.17865184],\n",
              "       [3.66205264, 0.76077592, 5.40750095],\n",
              "       [3.31092773, 0.11480418, 4.9664149 ],\n",
              "       [3.49764675, 0.18541845, 5.14520862],\n",
              "       [3.60850034, 1.24803045, 5.38423754],\n",
              "       [3.68120561, 0.6690142 , 5.40847417],\n",
              "       [3.14278239, 0.38675574, 4.78803478],\n",
              "       [3.00585191, 0.60231221, 4.59828494],\n",
              "       [3.39468045, 0.48205809, 5.11844067],\n",
              "       [3.32788568, 0.41034132, 4.92421655],\n",
              "       [3.51879523, 0.47199576, 5.23766854],\n",
              "       [3.34104251, 0.40494444, 4.92859681],\n",
              "       [3.40601705, 0.14959947, 5.08216833],\n",
              "       [1.22697525, 3.98049997, 1.25489071],\n",
              "       [0.684141  , 3.57731464, 1.44477759],\n",
              "       [1.17527644, 4.13366423, 1.01903626],\n",
              "       [0.73153652, 3.01144152, 2.45978458],\n",
              "       [0.63853451, 3.74779669, 1.3520017 ],\n",
              "       [0.26937898, 3.34908644, 1.88009327],\n",
              "       [0.76452634, 3.74283048, 1.28902785],\n",
              "       [1.58388575, 2.23937045, 3.37155487],\n",
              "       [0.75582717, 3.71181627, 1.41123804],\n",
              "       [0.85984838, 2.8005678 , 2.58955659],\n",
              "       [1.53611907, 2.60022691, 3.27864111],\n",
              "       [0.32426175, 3.17042268, 1.90055758],\n",
              "       [0.80841374, 3.08317693, 2.38073698],\n",
              "       [0.39674141, 3.64581678, 1.45909603],\n",
              "       [0.87269542, 2.51268382, 2.60303733],\n",
              "       [0.87306498, 3.59732957, 1.50822767],\n",
              "       [0.41229163, 3.36719171, 1.85387593],\n",
              "       [0.53579956, 2.94753796, 2.25517257],\n",
              "       [0.6367639 , 3.70615434, 1.74778451],\n",
              "       [0.71254917, 2.80841236, 2.49557781],\n",
              "       [0.7093731 , 3.79583719, 1.37094403],\n",
              "       [0.46349013, 3.02383531, 2.06563694],\n",
              "       [0.69373966, 3.99098735, 1.29106776],\n",
              "       [0.43661144, 3.60360653, 1.57547425],\n",
              "       [0.54593856, 3.37448959, 1.70495043],\n",
              "       [0.74313017, 3.56196294, 1.52298639],\n",
              "       [0.98798453, 4.01083283, 1.18965415],\n",
              "       [1.06739835, 4.20528001, 0.84636259],\n",
              "       [0.21993519, 3.47401497, 1.61913335],\n",
              "       [1.0243726 , 2.42676328, 2.77868071],\n",
              "       [0.86396528, 2.73795179, 2.6440625 ],\n",
              "       [0.97566381, 2.62259032, 2.75566654],\n",
              "       [0.55763082, 2.83096803, 2.32254696],\n",
              "       [0.73395781, 4.07263797, 1.22324554],\n",
              "       [0.57500396, 3.33772078, 1.9942056 ],\n",
              "       [0.68790275, 3.47153856, 1.61049622],\n",
              "       [0.92700552, 3.87741924, 1.19803047],\n",
              "       [0.61459444, 3.56224367, 1.81572464],\n",
              "       [0.50830256, 2.93359506, 2.20430516],\n",
              "       [0.6291191 , 2.94237659, 2.40438484],\n",
              "       [0.48790256, 3.23598208, 2.14635877],\n",
              "       [0.38266958, 3.5438369 , 1.52402278],\n",
              "       [0.49185351, 2.94407541, 2.26286106],\n",
              "       [1.5485635 , 2.28455247, 3.33648305],\n",
              "       [0.3856087 , 3.08064604, 2.16211718],\n",
              "       [0.44284695, 3.01190637, 2.11299567],\n",
              "       [0.3449879 , 3.0607156 , 2.07973003],\n",
              "       [0.37241653, 3.29690461, 1.76829182],\n",
              "       [1.66064034, 1.99117553, 3.44291999],\n",
              "       [0.38393196, 2.99098312, 2.16527941],\n",
              "       [2.0445799 , 5.23113563, 0.77731871],\n",
              "       [0.85382472, 4.13898297, 1.29757391],\n",
              "       [2.05245342, 5.26319105, 0.30610139],\n",
              "       [1.33089245, 4.63585807, 0.65293923],\n",
              "       [1.72813078, 5.00515534, 0.38458885],\n",
              "       [2.87401886, 6.06204421, 1.14225684],\n",
              "       [1.07101875, 3.49513662, 2.4108337 ],\n",
              "       [2.39730707, 5.6002125 , 0.78573677],\n",
              "       [1.67668563, 4.9963967 , 0.65454939],\n",
              "       [2.54158648, 5.60667281, 0.8435596 ],\n",
              "       [1.17541367, 4.31225927, 0.74552218],\n",
              "       [1.13563278, 4.46533089, 0.75289837],\n",
              "       [1.59322675, 4.81086063, 0.25958095],\n",
              "       [0.88917352, 4.11543193, 1.48572618],\n",
              "       [1.20227628, 4.34736472, 1.30303821],\n",
              "       [1.42273608, 4.57650303, 0.68288333],\n",
              "       [1.33403966, 4.59734489, 0.50991553],\n",
              "       [3.20105585, 6.21697515, 1.47791217],\n",
              "       [3.20759942, 6.46018421, 1.52971038],\n",
              "       [0.82617494, 4.07258886, 1.53708992],\n",
              "       [1.91251832, 5.08121836, 0.26952816],\n",
              "       [0.81891975, 3.95519658, 1.5334904 ],\n",
              "       [2.9794431 , 6.17779734, 1.31149299],\n",
              "       [0.74269596, 4.05452587, 1.10668455],\n",
              "       [1.75847731, 4.92787784, 0.27627819],\n",
              "       [2.14580999, 5.27958142, 0.52766931],\n",
              "       [0.62526165, 3.92137476, 1.20765678],\n",
              "       [0.70228926, 3.95155412, 1.16212743],\n",
              "       [1.4663925 , 4.78518338, 0.54629196],\n",
              "       [1.93773659, 5.06442297, 0.59428255],\n",
              "       [2.31885342, 5.51111422, 0.7312665 ],\n",
              "       [3.07340053, 5.99783127, 1.43802246],\n",
              "       [1.51444141, 4.8248088 , 0.5605572 ],\n",
              "       [0.81536685, 4.10808715, 1.05631592],\n",
              "       [1.23209127, 4.50967626, 1.12133058],\n",
              "       [2.6381171 , 5.75940796, 0.95311851],\n",
              "       [1.72401927, 4.84127876, 0.73306362],\n",
              "       [1.31541133, 4.557541  , 0.57903109],\n",
              "       [0.61011676, 3.83775716, 1.29960041],\n",
              "       [1.60532899, 4.7581488 , 0.34794609],\n",
              "       [1.77481954, 4.97393004, 0.3893492 ],\n",
              "       [1.53937059, 4.59878027, 0.68403844],\n",
              "       [0.85382472, 4.13898297, 1.29757391],\n",
              "       [2.00764279, 5.21394093, 0.30952112],\n",
              "       [1.94554509, 5.09187392, 0.50939919],\n",
              "       [1.44957743, 4.60916261, 0.61173881],\n",
              "       [0.89747884, 4.21767471, 1.10072376],\n",
              "       [1.17993324, 4.41184542, 0.65334214],\n",
              "       [1.50889317, 4.59925864, 0.83572418],\n",
              "       [0.83452741, 4.0782815 , 1.1805499 ]])"
            ]
          },
          "metadata": {},
          "execution_count": 36
        }
      ]
    },
    {
      "cell_type": "code",
      "metadata": {
        "colab": {
          "base_uri": "https://localhost:8080/"
        },
        "id": "mUwGTfEzzYYX",
        "outputId": "50f6c86f-ae38-4661-abcb-d1ac3ebd124f"
      },
      "source": [
        "labels = kmeans.labels_\n",
        "labels"
      ],
      "execution_count": 37,
      "outputs": [
        {
          "output_type": "execute_result",
          "data": {
            "text/plain": [
              "array([1, 1, 1, 1, 1, 1, 1, 1, 1, 1, 1, 1, 1, 1, 1, 1, 1, 1, 1, 1, 1, 1,\n",
              "       1, 1, 1, 1, 1, 1, 1, 1, 1, 1, 1, 1, 1, 1, 1, 1, 1, 1, 1, 1, 1, 1,\n",
              "       1, 1, 1, 1, 1, 1, 0, 0, 2, 0, 0, 0, 0, 0, 0, 0, 0, 0, 0, 0, 0, 0,\n",
              "       0, 0, 0, 0, 0, 0, 0, 0, 0, 0, 0, 2, 0, 0, 0, 0, 0, 0, 0, 0, 0, 0,\n",
              "       0, 0, 0, 0, 0, 0, 0, 0, 0, 0, 0, 0, 2, 0, 2, 2, 2, 2, 0, 2, 2, 2,\n",
              "       2, 2, 2, 0, 0, 2, 2, 2, 2, 0, 2, 0, 2, 0, 2, 2, 0, 0, 2, 2, 2, 2,\n",
              "       2, 0, 2, 2, 2, 2, 0, 2, 2, 2, 0, 2, 2, 2, 0, 2, 2, 0], dtype=int32)"
            ]
          },
          "metadata": {},
          "execution_count": 37
        }
      ]
    },
    {
      "cell_type": "code",
      "metadata": {
        "id": "uwHeY7Rkzbvn"
      },
      "source": [
        "# Método Elbow -> O método Elbow se trata de uma técnica interessante para encontrar o valor ideal do parâmetro k.\n",
        "# Basicamente o que o método faz é testar a variância dos dados em relação ao número de clusters."
      ],
      "execution_count": 38,
      "outputs": []
    },
    {
      "cell_type": "code",
      "metadata": {
        "colab": {
          "base_uri": "https://localhost:8080/",
          "height": 465
        },
        "id": "XeuZG7TjzfIO",
        "outputId": "646ef03d-e48d-4406-9a69-817d7e329daa"
      },
      "source": [
        "from sklearn.cluster import KMeans\n",
        "wcss = []\n",
        "i = 0 \n",
        "for i in range(1, 11):\n",
        "    kmeans = KMeans(n_clusters = i, init = 'random')\n",
        "    kmeans.fit(X)\n",
        "    print (i,kmeans.inertia_)\n",
        "    wcss.append(kmeans.inertia_)  \n",
        "plt.plot(range(1, 11), wcss)\n",
        "plt.title('O Metodo Elbow')\n",
        "plt.xlabel('Numero de Clusters')\n",
        "plt.ylabel('WSS') #within cluster sum of squares\n",
        "plt.show()"
      ],
      "execution_count": 39,
      "outputs": [
        {
          "output_type": "stream",
          "name": "stdout",
          "text": [
            "1 681.3706\n",
            "2 152.3479517603579\n",
            "3 78.851441426146\n",
            "4 57.22847321428572\n",
            "5 46.47223015873017\n",
            "6 39.38030324250913\n",
            "7 34.756749639249634\n",
            "8 30.400007434594393\n",
            "9 27.909536994660566\n",
            "10 26.65641053391053\n"
          ]
        },
        {
          "output_type": "display_data",
          "data": {
            "image/png": "[encoded data removed]",
            "text/plain": [
              "<Figure size 432x288 with 1 Axes>"
            ]
          },
          "metadata": {
            "needs_background": "light"
          }
        }
      ]
    },
    {
      "cell_type": "code",
      "metadata": {
        "id": "M4uOlp2ZHArZ",
        "outputId": "32f9a7ed-a835-406e-908c-c119c61f9c69",
        "colab": {
          "base_uri": "https://localhost:8080/"
        }
      },
      "source": [
        "from google.colab import drive\n",
        "drive.mount('/content/drive')"
      ],
      "execution_count": 40,
      "outputs": [
        {
          "output_type": "stream",
          "name": "stdout",
          "text": [
            "Drive already mounted at /content/drive; to attempt to forcibly remount, call drive.mount(\"/content/drive\", force_remount=True).\n"
          ]
        }
      ]
    },
    {
      "cell_type": "code",
      "metadata": {
        "colab": {
          "base_uri": "https://localhost:8080/",
          "height": 269
        },
        "id": "5nHfvGXAuYzk",
        "outputId": "c94b8ab7-5e54-438a-9f05-08a169accab6"
      },
      "source": [
        "for i, l in enumerate(kmeans_model.labels_):\n",
        "    plt.plot(x1[i], x2[i], color=colors[l], marker=markers[l],ls='None')\n",
        "    plt.xlim([0, 10])\n",
        "    plt.ylim([0, 10])\n",
        "\n",
        "plt.show()"
      ],
      "execution_count": 41,
      "outputs": [
        {
          "output_type": "display_data",
          "data": {
            "image/png": "[encoded data removed]",
            "text/plain": [
              "<Figure size 432x288 with 1 Axes>"
            ]
          },
          "metadata": {
            "needs_background": "light"
          }
        }
      ]
    },
    {
      "cell_type": "code",
      "metadata": {
        "id": "BsNPw_SBziA3"
      },
      "source": [
        "# Agrupando Novos Dados com KMeans\n",
        "# Com o nosso modelo já criado podemos usar o algoritmo K-means para agrupar novos dados baseado nos centroides que já estão definidos.\n",
        "# Passando novos valores e observando os cluster que serão atribuídos."
      ],
      "execution_count": 42,
      "outputs": []
    },
    {
      "cell_type": "code",
      "metadata": {
        "colab": {
          "base_uri": "https://localhost:8080/"
        },
        "id": "9sAtovVWzn32",
        "outputId": "a695b6fe-45b7-4781-cdc5-3667470ebfbb"
      },
      "source": [
        "#Agrupando novos dados KMeansPython\n",
        "data = [\n",
        "        [ 4.12, 3.4, 1.6, 0.7],\n",
        "        [ 5.2, 5.8, 5.2, 6.7],\n",
        "        [ 3.1, 3.5, 3.3, 3.0]\n",
        "    ]\n",
        "kmeans.predict(data)"
      ],
      "execution_count": 43,
      "outputs": [
        {
          "output_type": "execute_result",
          "data": {
            "text/plain": [
              "array([3, 6, 4], dtype=int32)"
            ]
          },
          "metadata": {},
          "execution_count": 43
        }
      ]
    },
    {
      "cell_type": "code",
      "metadata": {
        "id": "HcLYXF5RzqKf"
      },
      "source": [
        "# Visualizando os resultados\n",
        "# Para ficar ainda mais claro é interessante visualizar através de uma representação gráfica os nossos dados e os centroides criados pelo K-means Veja com o código abaixo como é simples."
      ],
      "execution_count": 44,
      "outputs": []
    },
    {
      "cell_type": "code",
      "metadata": {
        "colab": {
          "base_uri": "https://localhost:8080/",
          "height": 295
        },
        "id": "f-BXG1iwzsjv",
        "outputId": "c1c52e9b-f765-4be5-ea43-38b601dc705b"
      },
      "source": [
        "import matplotlib.pyplot as plt\n",
        " \n",
        "plt.scatter(X[:, 0], X[:,1], s = 100, c = kmeans.labels_)\n",
        "plt.scatter(kmeans.cluster_centers_[:, 0], kmeans.cluster_centers_[:, 1], s = 300, c = 'red',label = 'Centroids')\n",
        "plt.title('Iris Clusters and Centroids')\n",
        "plt.xlabel('SepalLength')\n",
        "plt.ylabel('SepalWidth')\n",
        "plt.legend()\n",
        " \n",
        "plt.show()"
      ],
      "execution_count": 45,
      "outputs": [
        {
          "output_type": "display_data",
          "data": {
            "image/png": "[encoded data removed]",
            "text/plain": [
              "<Figure size 432x288 with 1 Axes>"
            ]
          },
          "metadata": {
            "needs_background": "light"
          }
        }
      ]
    },
    {
      "cell_type": "code",
      "metadata": {
        "id": "kAXu_uElzwCX"
      },
      "source": [
        ""
      ],
      "execution_count": 45,
      "outputs": []
    }
  ]
}